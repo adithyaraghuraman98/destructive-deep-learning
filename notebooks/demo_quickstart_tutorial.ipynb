{
 "cells": [
  {
   "cell_type": "markdown",
   "metadata": {},
   "source": [
    "# Quickstart Tutorial\n",
    "This short demo of the ddl package shows the main interfaces and basic ideas of the library."
   ]
  },
  {
   "cell_type": "code",
   "execution_count": null,
   "metadata": {
    "collapsed": true
   },
   "outputs": [],
   "source": [
    "# Setup imports\n",
    "from __future__ import division, print_function\n",
    "import sys, os, warnings\n",
    "import numpy as np\n",
    "import matplotlib.pyplot as plt\n",
    "sys.path.append('..')  # Enable importing from package ddl without installing ddl\n",
    "\n",
    "# Setup plotting functions\n",
    "%matplotlib inline \n",
    "PLOT_HEIGHT = 3\n",
    "def get_ax(ax, title):\n",
    "    if ax is None:\n",
    "        fig, ax = plt.subplots(1, 1, figsize=(PLOT_HEIGHT, PLOT_HEIGHT))\n",
    "        fig.tight_layout()\n",
    "    if title is not None:\n",
    "        ax.set_title(title)\n",
    "    ax.axis('equal')\n",
    "    ax.set_adjustable('box')\n",
    "    return ax\n",
    "def plot_data(X, y, ax=None, title=None):\n",
    "    ax = get_ax(ax, title)\n",
    "    ax.scatter(X[:, 0], X[:, 1], c=y, s=4)\n",
    "def plot_density(density, bounds=[[0, 1], [0, 1]], n_grid=40, ax=None, title=None):\n",
    "    ax = get_ax(ax, title)\n",
    "    x = np.linspace(*bounds[0], n_grid)\n",
    "    y = np.linspace(*bounds[1], n_grid)\n",
    "    X_grid, Y_grid = np.meshgrid(x, y)\n",
    "    logpdf = density.score_samples(np.array([X_grid.ravel(), Y_grid.ravel()]).T)\n",
    "    pdf_grid = np.exp(logpdf).reshape(X_grid.shape)\n",
    "    ax.pcolormesh(X_grid, Y_grid, -pdf_grid, cmap='gray', zorder=-1)\n",
    "def plot_multiple(X_arr, y_arr, titles=None):\n",
    "    if titles is None:\n",
    "        titles = [None] * len(X_arr)\n",
    "    n_cols = int(min(5, len(X_arr)))\n",
    "    n_rows = int(np.ceil(len(X_arr) / n_cols))\n",
    "    fig, axes = plt.subplots(n_rows, n_cols, figsize=(PLOT_HEIGHT * n_cols, PLOT_HEIGHT * n_rows))\n",
    "    axes = axes.ravel()\n",
    "    fig.tight_layout()\n",
    "    for i, (X, y, ax, title) in enumerate(zip(X_arr, y_arr, axes, titles)):\n",
    "        if hasattr(X, 'score_samples'):\n",
    "            # Special case of plotting a density instead\n",
    "            if 'get_prev_bounds' in y:\n",
    "                if y.pop('get_prev_bounds'):\n",
    "                    y['bounds'] = [axes[i - 1].get_xlim(), axes[i - 1].get_ylim()]\n",
    "            plot_density(X, ax=ax, title=title, **y)\n",
    "        else:\n",
    "            plot_data(X, y, ax=ax, title=title)"
   ]
  },
  {
   "cell_type": "code",
   "execution_count": null,
   "metadata": {},
   "outputs": [],
   "source": [
    "# Make toy dataset to play with\n",
    "from ddl.datasets import make_toy_data\n",
    "D = make_toy_data(data_name='concentric_circles', n_samples=500, random_state=0)\n",
    "X, y = D.X * [1, 2], D.y # Add axis scaling to make it a little more interesting\n",
    "plot_data(X, y)"
   ]
  },
  {
   "cell_type": "markdown",
   "metadata": {},
   "source": [
    "## Destructors\n",
    "Destructors are the building block of everything in the `ddl` library.\n",
    "At their core, destructors are invertible transformations that project onto the unit hypercube.\n",
    "Each destructor, explicitly or *implicitly* has a corresponding probabilistic density which is equal to abs(det(Jacobian)).\n",
    "\n",
    "First, we will give an example of an independent destructor with an *explicit* density.\n",
    "(Note that when fitting the destructor, the density is fitted first and then the destructor is fitted based on the density. Thus, the density does not need to be fitted a priori.)"
   ]
  },
  {
   "cell_type": "code",
   "execution_count": null,
   "metadata": {},
   "outputs": [],
   "source": [
    "# Independent destructor\n",
    "from ddl.independent import IndependentDensity, IndependentDestructor\n",
    "from ddl.univariate import ScipyUnivariateDensity\n",
    "import scipy.stats\n",
    "\n",
    "# Create independent Gaussian/normal density\n",
    "ind_density = IndependentDensity(\n",
    "    univariate_estimators=ScipyUnivariateDensity(scipy_rv=scipy.stats.norm)\n",
    ")\n",
    "# Create corresponding destructor using the explicit density created above\n",
    "ind_destructor = IndependentDestructor(ind_density)\n",
    "\n",
    "# Fit and transform data \n",
    "Z_ind = ind_destructor.fit_transform(X)\n",
    "plot_multiple([X, ind_destructor.density_, Z_ind], \n",
    "              [y, dict(get_prev_bounds=True), y], #=np.array([np.min(X,axis=0), np.max(X, axis=0)]).T), y], \n",
    "              titles=['Before destructor', 'Density', 'After destructor'])"
   ]
  },
  {
   "cell_type": "markdown",
   "metadata": {},
   "source": [
    "Note that data has been transformed onto the unit square."
   ]
  },
  {
   "cell_type": "code",
   "execution_count": null,
   "metadata": {},
   "outputs": [],
   "source": [
    "# Print out mean and variance of estimated independent Gaussians\n",
    "univ_densities = ind_destructor.density_.univariate_densities_\n",
    "for i, (mu, sigma) in enumerate([(u.rv_.args[0], u.rv_.args[1]) for u in univ_densities]):\n",
    "    print('Mean and standard deviation of variable %d: %g, %g' % (i, mu, sigma) )"
   ]
  },
  {
   "cell_type": "markdown",
   "metadata": {},
   "source": [
    "Note that the estimated standard deviation for the second variable is twice as much as the first.\n",
    "Thus, the transformation removes the oval shape of the distribution.\n",
    "\n",
    "We now present a tree destructor to give another example of a destructor with an explicit density.\n",
    "Because our tree destructor is a *canonical* destructor (i.e. one whose domain is the unit hypercube), we will use our previously destroyed data `Z_ind` instead of `X`."
   ]
  },
  {
   "cell_type": "code",
   "execution_count": null,
   "metadata": {},
   "outputs": [],
   "source": [
    "from ddl.tree import TreeDensity, TreeDestructor, RandomTreeEstimator\n",
    "tree_density = TreeDensity(\n",
    "    tree_estimator=RandomTreeEstimator(min_samples_leaf=3, random_state=0)\n",
    ")\n",
    "tree_destructor = TreeDestructor(tree_density)\n",
    "Z_tree = tree_destructor.fit_transform(Z_ind)\n",
    "plot_multiple([Z_ind, tree_destructor.density_, Z_tree], [y, {}, y], \n",
    "              titles=['Before tree destructor', 'Tree density', 'After tree destructor'])"
   ]
  },
  {
   "cell_type": "markdown",
   "metadata": {},
   "source": [
    "Note that the tree density is piecewise constant.\n",
    "(This implies that the destructor is piecewise linear since the density is equal to the abs(det(Jacobian)).)\n",
    "\n",
    "## Composite destructors (Implicit density)\n",
    "We will now introduce composite destructors which are simply destructors composed of multiple transformations.\n",
    "The density for composite destructors is *implicit* based on the transformations in the composition.\n",
    "\n",
    "*Note that the last transformation must be a true destructor but the other transformations merely need to be invertible.*\n",
    "\n",
    "We will compose the above two destructors into a single composite destructor."
   ]
  },
  {
   "cell_type": "code",
   "execution_count": null,
   "metadata": {},
   "outputs": [],
   "source": [
    "from sklearn.base import clone\n",
    "from ddl.base import CompositeDestructor\n",
    "composite_destructor = CompositeDestructor([clone(ind_destructor), clone(tree_destructor)])\n",
    "Z_tree_2 = composite_destructor.fit_transform(X)\n",
    "plot_multiple([X, composite_destructor.density_, Z_tree_2, Z_tree], [y, dict(get_prev_bounds=True), y, y], \n",
    "              titles=['Before composite destructor', 'Implicit density', 'After composite destructor',\n",
    "                      'Two separate transformations'])"
   ]
  },
  {
   "cell_type": "markdown",
   "metadata": {},
   "source": [
    "Notice how the composite destructor does the same thing as doing two sequential, separate transformations (far right).\n",
    "\n",
    "## Deep destructors\n",
    "Finally, we will show how to construct a deep destructor that automatically builds up a composite destructor by appending destructors as needed.\n",
    "(The deep destructor chooses the number of destructors/layers based on cross validation.)\n",
    "\n",
    "A deep destructor has an initial destructor whose domain can be anything but requires canonical destructors (i.e. destructors whose domain is the unit hypercube) for other transformation layers in the destructor.\n",
    "Thus, we will use a simple initial destructor and then a tree destructor, which is a canonical destructor by construction."
   ]
  },
  {
   "cell_type": "code",
   "execution_count": null,
   "metadata": {},
   "outputs": [],
   "source": [
    "from sklearn.base import clone\n",
    "from ddl.deep import DeepDestructorCV\n",
    "deep_destructor = DeepDestructorCV(\n",
    "    init_destructor=clone(ind_destructor),\n",
    "    canonical_destructor=clone(tree_destructor),\n",
    "    cv=3,\n",
    ")\n",
    "Z_deep = deep_destructor.fit_transform(X)\n",
    "print('Number of layers including initial destructor = %d' % len(deep_destructor.fitted_destructors_))\n",
    "plot_multiple([X, composite_destructor.density_, Z_deep], [y, dict(get_prev_bounds=True), y], \n",
    "              titles=['Before deep destructor', 'Implicit density', 'After deep destructor'])"
   ]
  },
  {
   "cell_type": "markdown",
   "metadata": {},
   "source": [
    "We can inspect the local densities associated with each destructor/layer of the deep destructor:"
   ]
  },
  {
   "cell_type": "code",
   "execution_count": null,
   "metadata": {},
   "outputs": [],
   "source": [
    "n_layers = len(deep_destructor.fitted_destructors_)\n",
    "# Transform up to layer i\n",
    "Z = [deep_destructor.transform(X, partial_idx=np.arange(i + 1)) for i in range(n_layers)]\n",
    "# Extract \"local\" densities corresponding to each layer\n",
    "local_densities = [d.density_ for d in deep_destructor.fitted_destructors_]\n",
    "\n",
    "# Visualize results \n",
    "X_arr = ([X, deep_destructor.density_]\n",
    "         + np.array([local_densities, Z]).transpose().ravel().tolist())\n",
    "y_arr = ([y, dict(get_prev_bounds=True)]\n",
    "         + [dict(get_prev_bounds=True), y]\n",
    "         + np.array([[{}, y] for _ in range(n_layers - 1)]).ravel().tolist())\n",
    "titles = (['Original data', 'Global deep density']\n",
    "          + np.array([\n",
    "              ('Local density L=%d' % (i + 1), 'Data after %dth destructor' % (i + 1))\n",
    "              for i in range(n_layers)\n",
    "          ]).ravel().tolist())\n",
    "plot_multiple(X_arr, y_arr, titles=titles)"
   ]
  },
  {
   "cell_type": "code",
   "execution_count": null,
   "metadata": {
    "collapsed": true
   },
   "outputs": [],
   "source": [
    "# show cv\n",
    "\n",
    "# deep copula"
   ]
  }
 ],
 "metadata": {
  "kernelspec": {
   "display_name": "Python 3",
   "language": "python",
   "name": "python3"
  },
  "language_info": {
   "codemirror_mode": {
    "name": "ipython",
    "version": 3
   },
   "file_extension": ".py",
   "mimetype": "text/x-python",
   "name": "python",
   "nbconvert_exporter": "python",
   "pygments_lexer": "ipython3",
   "version": "3.6.3"
  }
 },
 "nbformat": 4,
 "nbformat_minor": 2
}
